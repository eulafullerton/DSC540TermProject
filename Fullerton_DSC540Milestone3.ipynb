{
 "cells": [
  {
   "cell_type": "markdown",
   "id": "fc3e5e07-7801-42b9-814b-547cfa1c16a9",
   "metadata": {},
   "source": [
    "# Milestone 3\n",
    "**Name:** Eula Fullerton  \n",
    "**Due Date:** Oct 20, 2024  \n",
    "**Class:** DSC540-T302 Data Preparation  \n",
    "**Professor:** Professor Williams "
   ]
  },
  {
   "cell_type": "markdown",
   "id": "bc63f53c-3bc5-4e88-9b37-56e67ebf910a",
   "metadata": {},
   "source": [
    "Cleaning/Formatting Website Data\n",
    "\n",
    "Perform at least 5 data transformation and/or cleansing steps to your website data. The below examples are not required - they are just potential transformations you could do. If your data doesn't work for these scenarios, complete different transformations. You can do the same transformation multiple times if needed to clean your data. The goal is a clean dataset at the end of the milestone. As a reminder - you cannot export your website data to CSV to work with it, you must do all the work directly against the HTML source.\n",
    "\n",
    "Examples:\n",
    "- Replace Headers\n",
    "- Format data into a more readable format\n",
    "- Identify outliers and bad data\n",
    "- Find duplicates\n",
    "- Fix casing or inconsistent values\n",
    "- Conduct Fuzzy Matching\n",
    "- Make sure you clearly number and label each transformation step (Step #1, Step #2, etc.) in your code and describe what it is doing in 1-2 sentences.\n",
    "\n",
    "You must submit the following:\n",
    "Jupyter Notebook File or PDF of your code with Milestone # listed.\n",
    "Each transformation should be labeled with description or what it is doing.\n",
    "Human readable dataset after all transformations should be printed at the end of your notebook.\n",
    "\n",
    "- 1 paragraph of the ethical implications of data wrangling specific to your datasource and the steps you completed answering the following questions:\n",
    "- What changes were made to the data?\n",
    "- Are there any legal or regulatory guidelines for your data or project topic?\n",
    "- What risks could be created based on the transformations done?\n",
    "- Did you make any assumptions in cleaning/transforming the data?\n",
    "- How was your data sourced / verified for credibility?\n",
    "- Was your data acquired in an ethical way?\n",
    "- How would you mitigate any of the ethical implications you have identified?"
   ]
  },
  {
   "cell_type": "code",
   "execution_count": 3,
   "id": "0849b9c2-e3be-473f-88f3-1976cbf1ed47",
   "metadata": {},
   "outputs": [],
   "source": [
    "# Import necessary libraries\n",
    "import pandas as pd\n",
    "from bs4 import BeautifulSoup\n",
    "import requests\n",
    "import numpy as np"
   ]
  },
  {
   "cell_type": "markdown",
   "id": "c01a7b78-461f-4352-affc-ba39cb3d0571",
   "metadata": {},
   "source": [
    "## Viewing the Data\n",
    "\n",
    "In my project, I will work with Table 0 and Table 3"
   ]
  },
  {
   "cell_type": "code",
   "execution_count": 6,
   "id": "c87a6d00-a25f-4404-b88d-cf815ca591b8",
   "metadata": {},
   "outputs": [],
   "source": [
    "# Retrieve the HTML content\n",
    "url = \"https://en.wikipedia.org/wiki/Pregnancy_category\"\n",
    "response = requests.get(url)\n",
    "soup = BeautifulSoup(response.content, \"html.parser\")"
   ]
  },
  {
   "cell_type": "code",
   "execution_count": 8,
   "id": "11e35ba8-e8bc-4b02-b859-6a290ccc76f6",
   "metadata": {},
   "outputs": [],
   "source": [
    "# Extract all tables into a list of DataFrames\n",
    "tables = pd.read_html(url)"
   ]
  },
  {
   "cell_type": "code",
   "execution_count": 10,
   "id": "9000b1a0-e52b-4240-8af1-caa9a7aefaac",
   "metadata": {},
   "outputs": [
    {
     "name": "stdout",
     "output_type": "stream",
     "text": [
      "Number of tables found: 5\n"
     ]
    }
   ],
   "source": [
    "# Display the number of tables extracted\n",
    "print(f\"Number of tables found: {len(tables)}\")"
   ]
  },
  {
   "cell_type": "code",
   "execution_count": 12,
   "id": "0afed6c8-e0da-4626-b3d8-078fe35b649f",
   "metadata": {},
   "outputs": [
    {
     "name": "stdout",
     "output_type": "stream",
     "text": [
      "\n",
      "Table 0:\n",
      "  Pregnancy Category                                        Description\n",
      "0                  A  No risk in controlled human studies: Adequate ...\n",
      "1                  B  No risk in other studies: Animal reproduction ...\n",
      "2                  C  Risk not ruled out: Animal reproduction studie...\n",
      "3                  D  Positive evidence of risk: There is positive e...\n",
      "4                  X  Contraindicated in pregnancy: Studies in anima...\n",
      "\n",
      "Table 1:\n",
      "  Pregnancy Category  \\\n",
      "0                  A   \n",
      "1                 B1   \n",
      "2                 B2   \n",
      "3                 B3   \n",
      "4                  C   \n",
      "\n",
      "  Australian categorisation system for prescribing medicines in pregnancy  \n",
      "0  Drugs which have been taken by many pregnant w...                       \n",
      "1  Drugs which have been taken by only a limited ...                       \n",
      "2  Drugs which have been taken by only a limited ...                       \n",
      "3  Drugs which have been taken by only a limited ...                       \n",
      "4  Drugs which, owing to their pharmaceutical eff...                       \n",
      "\n",
      "Table 2:\n",
      "   Category    Group                                        Description\n",
      "0       NaN  Group 1  Extensive human tests and animal studies have ...\n",
      "1       NaN  Group 2  Extensive human tests of the drug have not sho...\n",
      "2       NaN  Group 3  Extensive human tests of the drug have not sho...\n",
      "3       NaN  Group 4  No adequate and well-controlled studies of the...\n",
      "4       NaN  Group 5  No adequate and well-controlled studies of the...\n",
      "\n",
      "Table 3:\n",
      "  Classification of some agents, based on different national bodies            \\\n",
      "                                               Pharmaceutical agent Australia   \n",
      "0                     Acetylsalicylic acid (aspirin)                        C   \n",
      "1                                            Alcohol                        ?   \n",
      "2                                        Amoxicillin                        A   \n",
      "3                                           Caffeine                        A   \n",
      "4                   Amoxicillin with clavulanic acid                       B1   \n",
      "\n",
      "                      \n",
      "       United States  \n",
      "0  D third trimester  \n",
      "1                  X  \n",
      "2                  B  \n",
      "3                  ?  \n",
      "4                  B  \n",
      "\n",
      "Table 4:\n",
      "                  0  1  2\n",
      "0  Prostaglandin E2  C  ?\n",
      "1        Etretinate  ?  ?\n"
     ]
    }
   ],
   "source": [
    "# Display the first few rows of each table to identify them\n",
    "for i, table in enumerate(tables):\n",
    "    print(f\"\\nTable {i}:\")\n",
    "    print(table.head())  "
   ]
  },
  {
   "cell_type": "code",
   "execution_count": 16,
   "id": "b71b36e7-5cd0-4876-8d36-6631e90ffe68",
   "metadata": {},
   "outputs": [],
   "source": [
    "# Step 2: Extract the relevant table (assuming it is the first table on the page)\n",
    "table = soup.find(\"table\", {\"class\": \"wikitable\"})\n",
    "df = pd.read_html(str(table))[0]\n",
    "\n",
    "import warnings\n",
    "warnings.simplefilter(action='ignore', category=FutureWarning)"
   ]
  },
  {
   "cell_type": "markdown",
   "id": "f0c2dfec-8ed0-4667-84c6-75a4c4939c40",
   "metadata": {},
   "source": [
    "## 1. Replace Headers"
   ]
  },
  {
   "cell_type": "code",
   "execution_count": 19,
   "id": "5f2209e7-fd67-40b4-9ef6-5c3779f1a51a",
   "metadata": {},
   "outputs": [
    {
     "name": "stdout",
     "output_type": "stream",
     "text": [
      "Original Data Headers:\n",
      "  Pregnancy Category                                        Description\n",
      "0                  A  No risk in controlled human studies: Adequate ...\n",
      "1                  B  No risk in other studies: Animal reproduction ...\n",
      "2                  C  Risk not ruled out: Animal reproduction studie...\n",
      "3                  D  Positive evidence of risk: There is positive e...\n",
      "4                  X  Contraindicated in pregnancy: Studies in anima...\n"
     ]
    }
   ],
   "source": [
    "# Step 1: display first few rows of Table 0\n",
    "print(\"Original Data Headers:\")\n",
    "print(df.head()) "
   ]
  },
  {
   "cell_type": "code",
   "execution_count": 21,
   "id": "5ffd682e-5347-4775-93fc-6667842d56c5",
   "metadata": {},
   "outputs": [],
   "source": [
    "# Step 2: Replace Headers of Table 0\n",
    "df.columns = df.columns.str.replace(\"Pregnancy Category\", \"FDA Pregnancy Risk Category\")  # Renaming for clarity\n",
    "df.columns = df.columns.str.strip()  # Stripping whitespace from headers"
   ]
  },
  {
   "cell_type": "code",
   "execution_count": 23,
   "id": "cf5ed042-9244-4f2b-a40c-6605195d6529",
   "metadata": {},
   "outputs": [
    {
     "name": "stdout",
     "output_type": "stream",
     "text": [
      "New Headers:\n",
      "  FDA Pregnancy Risk Category  \\\n",
      "0                           A   \n",
      "1                           B   \n",
      "2                           C   \n",
      "3                           D   \n",
      "4                           X   \n",
      "\n",
      "                                         Description  \n",
      "0  No risk in controlled human studies: Adequate ...  \n",
      "1  No risk in other studies: Animal reproduction ...  \n",
      "2  Risk not ruled out: Animal reproduction studie...  \n",
      "3  Positive evidence of risk: There is positive e...  \n",
      "4  Contraindicated in pregnancy: Studies in anima...  \n"
     ]
    }
   ],
   "source": [
    "# Step 3: Display new headers \n",
    "print(\"New Headers:\")\n",
    "print(df.head())"
   ]
  },
  {
   "cell_type": "markdown",
   "id": "98dbc950-bd58-475e-9aa9-338387eddd49",
   "metadata": {},
   "source": [
    "##  2. Create a new row splitting the description\n",
    "\n",
    "A new row is added to split the description from table 0."
   ]
  },
  {
   "cell_type": "code",
   "execution_count": 26,
   "id": "d26cc041-cecd-4a27-b5d3-544030691634",
   "metadata": {},
   "outputs": [
    {
     "name": "stdout",
     "output_type": "stream",
     "text": [
      "Column names in Table 0:\n",
      "['Pregnancy Category', 'Description']\n"
     ]
    }
   ],
   "source": [
    "# Step 1: Get the column names of table_0\n",
    "table_0 = tables[0]  \n",
    "table_0_columns = table_0.columns.tolist() \n",
    "print(\"Column names in Table 0:\")\n",
    "print(table_0_columns)"
   ]
  },
  {
   "cell_type": "code",
   "execution_count": 28,
   "id": "0c310fa7-6610-42f7-a5b9-9d1c9a4e5760",
   "metadata": {},
   "outputs": [
    {
     "name": "stdout",
     "output_type": "stream",
     "text": [
      "Updated Table 0:\n",
      "  Pregnancy Category                                 Risk  \\\n",
      "0                  A  No risk in controlled human studies   \n",
      "1                  B             No risk in other studies   \n",
      "2                  C                   Risk not ruled out   \n",
      "3                  D            Positive evidence of risk   \n",
      "4                  X         Contraindicated in pregnancy   \n",
      "\n",
      "                                Detailed Description  \n",
      "0   Adequate and well-controlled human studies ha...  \n",
      "1   Animal reproduction studies have failed to de...  \n",
      "2   Animal reproduction studies have shown an adv...  \n",
      "3   There is positive evidence of human fetal ris...  \n",
      "4   Studies in animals or humans have demonstrate...  \n"
     ]
    }
   ],
   "source": [
    "# Step 2: Split the 'Description' column values by ':' and create new columns\n",
    "split_column = table_0['Description'].str.split(':', expand=True)\n",
    "\n",
    "# Step 3: Rename the new columns to custom names\n",
    "split_column.columns = ['Risk', 'Detailed Description']\n",
    "\n",
    "# Step 4: Concatenate the original DataFrame with the new columns\n",
    "table_0 = pd.concat([table_0, split_column], axis=1)\n",
    "\n",
    "# Step 5: Drop the original 'Description' column if no longer needed\n",
    "table_0 = table_0.drop(columns=['Description'])\n",
    "\n",
    "# Step 6: Display the updated DataFrame\n",
    "print(\"Updated Table 0:\")\n",
    "print(table_0.head())"
   ]
  },
  {
   "cell_type": "markdown",
   "id": "f9599e1e-242e-482c-8d97-59453f6e6dde",
   "metadata": {},
   "source": [
    "## 3. Remove unnecessary columns\n",
    "\n",
    "My project will focus on the US column. I omited Pharmaceutical agent Australia from Table 3."
   ]
  },
  {
   "cell_type": "code",
   "execution_count": 31,
   "id": "5a30f96c-8017-44ad-8d9d-81441c774d22",
   "metadata": {},
   "outputs": [],
   "source": [
    "# Step 1: Access Table 4 (index 3)\n",
    "table_4 = tables[3]  "
   ]
  },
  {
   "cell_type": "code",
   "execution_count": 33,
   "id": "7ec73278-c92c-4592-a2f3-774b1f94a858",
   "metadata": {},
   "outputs": [
    {
     "name": "stdout",
     "output_type": "stream",
     "text": [
      "Original Table 4:\n",
      "  Classification of some agents, based on different national bodies            \\\n",
      "                                               Pharmaceutical agent Australia   \n",
      "0                     Acetylsalicylic acid (aspirin)                        C   \n",
      "1                                            Alcohol                        ?   \n",
      "2                                        Amoxicillin                        A   \n",
      "3                                           Caffeine                        A   \n",
      "4                   Amoxicillin with clavulanic acid                       B1   \n",
      "\n",
      "                      \n",
      "       United States  \n",
      "0  D third trimester  \n",
      "1                  X  \n",
      "2                  B  \n",
      "3                  ?  \n",
      "4                  B  \n"
     ]
    }
   ],
   "source": [
    "# Step 2: Display the original Table 4\n",
    "print(\"Original Table 4:\")\n",
    "print(table_4.head()) "
   ]
  },
  {
   "cell_type": "code",
   "execution_count": 35,
   "id": "c9f9f09e-9395-4956-ab40-29e87722416f",
   "metadata": {},
   "outputs": [
    {
     "name": "stdout",
     "output_type": "stream",
     "text": [
      "Column names in Table 4:\n",
      "[('Classification of some agents, based on different national bodies', 'Pharmaceutical agent'), ('Classification of some agents, based on different national bodies', 'Australia'), ('Classification of some agents, based on different national bodies', 'United States')]\n"
     ]
    }
   ],
   "source": [
    "# Step 3: Display the column names\n",
    "print(\"Column names in Table 4:\")\n",
    "print(table_4.columns.tolist())  "
   ]
  },
  {
   "cell_type": "code",
   "execution_count": 37,
   "id": "5ae19755-b335-488c-ab7a-4e1af905653c",
   "metadata": {},
   "outputs": [
    {
     "name": "stdout",
     "output_type": "stream",
     "text": [
      "Column '('Classification of some agents, based on different national bodies', 'Australia')' has been removed.\n",
      "\n",
      "Updated Table 4:\n",
      "  Classification of some agents, based on different national bodies  \\\n",
      "                                               Pharmaceutical agent   \n",
      "0                     Acetylsalicylic acid (aspirin)                  \n",
      "1                                            Alcohol                  \n",
      "2                                        Amoxicillin                  \n",
      "3                                           Caffeine                  \n",
      "4                   Amoxicillin with clavulanic acid                  \n",
      "\n",
      "                      \n",
      "       United States  \n",
      "0  D third trimester  \n",
      "1                  X  \n",
      "2                  B  \n",
      "3                  ?  \n",
      "4                  B  \n"
     ]
    }
   ],
   "source": [
    "# Step 4: Remove the \"Pharmaceutical agent Australia\" column\n",
    "column_to_drop = ('Classification of some agents, based on different national bodies', 'Australia')  \n",
    "\n",
    "# Step 5: Check if the column exists before trying to drop it\n",
    "if column_to_drop in table_4.columns:\n",
    "    table_4 = table_4.drop(columns=[column_to_drop])  \n",
    "    print(f\"Column '{column_to_drop}' has been removed.\")\n",
    "else:\n",
    "    print(f\"Column '{column_to_drop}' not found in Table 4.\")\n",
    "\n",
    "# Step 6: Display the updated DataFrame to confirm the column has been removed\n",
    "print(\"\\nUpdated Table 4:\")\n",
    "print(table_4.head())  \n"
   ]
  },
  {
   "cell_type": "markdown",
   "id": "1ed61061-8772-4b3c-a2d1-302cebfc33b3",
   "metadata": {},
   "source": [
    "## 4. Replace Values \n",
    "Research was conducted fo find the missing values for caffeine and nicotine FDA classifications in the US. According to the drugs.com caffeine is classfied as class C, while nicotine is classified as class D. "
   ]
  },
  {
   "cell_type": "code",
   "execution_count": 40,
   "id": "5223a4e0-eebd-4049-88ac-2a06f2a47a6a",
   "metadata": {},
   "outputs": [
    {
     "name": "stdout",
     "output_type": "stream",
     "text": [
      "Updated Table 4 after replacing values in the 'United States' column for Caffeine and Nicotine:\n",
      "  Classification of some agents, based on different national bodies  \\\n",
      "                                               Pharmaceutical agent   \n",
      "0                     Acetylsalicylic acid (aspirin)                  \n",
      "1                                            Alcohol                  \n",
      "2                                        Amoxicillin                  \n",
      "3                                           Caffeine                  \n",
      "4                   Amoxicillin with clavulanic acid                  \n",
      "\n",
      "                      \n",
      "       United States  \n",
      "0  D third trimester  \n",
      "1                  X  \n",
      "2                  B  \n",
      "3                  C  \n",
      "4                  B  \n"
     ]
    }
   ],
   "source": [
    "# Step 1: Replace values in the United States column for Caffeine and Nicotine with different values\n",
    "table_4.loc[\n",
    "    table_4[('Classification of some agents, based on different national bodies', 'Pharmaceutical agent')] == 'Caffeine',\n",
    "    ('Classification of some agents, based on different national bodies', 'United States')\n",
    "] = 'C'  \n",
    "\n",
    "table_4.loc[\n",
    "    table_4[('Classification of some agents, based on different national bodies', 'Pharmaceutical agent')] == 'Nicotine',\n",
    "    ('Classification of some agents, based on different national bodies', 'United States')\n",
    "] = 'D'  \n",
    "\n",
    "# Step 2: Display the updated DataFrame to confirm the changes\n",
    "print(\"Updated Table 4 after replacing values in the 'United States' column for Caffeine and Nicotine:\")\n",
    "print(table_4.head()) "
   ]
  },
  {
   "cell_type": "markdown",
   "id": "a9258fb9-00b5-4872-a99c-9923eca5d511",
   "metadata": {},
   "source": [
    "## 5. Replace Header\n",
    "Since the key relationship in this study will be through drug names prescribed or associated with pregnancy outcomes, I changed the header \"Pharmaceutical agent\" to \"Drug\"."
   ]
  },
  {
   "cell_type": "code",
   "execution_count": 43,
   "id": "f46ad038-748e-48ac-b1c6-37fa45b1b10b",
   "metadata": {},
   "outputs": [
    {
     "name": "stdout",
     "output_type": "stream",
     "text": [
      "Column names in Table 4 after renaming:\n",
      "[('Classification of some agents, based on different national bodies', 'Drug'), ('Classification of some agents, based on different national bodies', 'United States')]\n"
     ]
    }
   ],
   "source": [
    "# Step 1: Create a list to rename the columns\n",
    "new_columns = [\n",
    "    ('Classification of some agents, based on different national bodies', 'Drug') \n",
    "    if col == ('Classification of some agents, based on different national bodies', 'Pharmaceutical agent') \n",
    "    else col \n",
    "    for col in table_4.columns\n",
    "]\n",
    "\n",
    "# Step 2: Update the DataFrame with the new column names\n",
    "table_4.columns = pd.MultiIndex.from_tuples(new_columns)\n",
    "\n",
    "# Step 3: Display the updated column names\n",
    "print(\"Column names in Table 4 after renaming:\")\n",
    "print(table_4.columns.tolist())"
   ]
  },
  {
   "cell_type": "markdown",
   "id": "c068c4e9-f506-498b-b9af-bf5d8e5aed25",
   "metadata": {},
   "source": [
    "## Concluding Remarks"
   ]
  },
  {
   "cell_type": "markdown",
   "id": "c5a86925-7bde-4817-912c-1b00eb181d35",
   "metadata": {},
   "source": [
    "In the process of data wrangling, several changes were made to enhance the clarity and usability of the datasets from the Wikipedia page. The 5 changes were:\n",
    "\n",
    "1. The header \"Pregnancy Category\" was updated to \"FDA Pregnancy Risk Category\" to better reflect its content and regulatory context.\n",
    "2. A new row was created by splitting the \"Description\" column, allowing for a more granular analysis of the data.\n",
    "3. Unnecessary columns were removed such as the Australian classification column.\n",
    "4. Values were replaced for \"nicotine\" and \"caffeine\" with values from drugs.com to replace the missing content in that column with the known US FDA risk category. \n",
    "5. The column name for \"Pharmaceutical Agent\" was changed to \"Drug\" for conciseness and clarity when it comes to merging the 3 datasets for the project.\n",
    "\n",
    "These transformations raise ethical implications, particularly regarding the accuracy and integrity of the data from the Wikipedia page. Legal and regulatory guidelines, such as those established by the FDA for drug safety, must be considered, as misrepresenting the data could have serious consequences. Although, the data wrangling process did not include major transformations, the risks associated with these transformations may include potential misinterpretation of the data and a loss of context that may lead to incorrect conclusions. Assumptions made during the cleaning process, such as the consistency of drug classifications, could also impact the reliability of the findings. Although it is important to point out that the replaced values were sourced from credible sites that adhere to ethical standards for data collection.  "
   ]
  },
  {
   "cell_type": "markdown",
   "id": "d130bc64-6eb1-4260-a884-2fd8f478025e",
   "metadata": {},
   "source": [
    "## Download Final tables"
   ]
  },
  {
   "cell_type": "code",
   "execution_count": 53,
   "id": "9170b4ab-0c2e-4c22-8337-67734c788459",
   "metadata": {},
   "outputs": [
    {
     "name": "stdout",
     "output_type": "stream",
     "text": [
      "Tables have been saved as CSV files.\n"
     ]
    }
   ],
   "source": [
    "# Save table_0 to a CSV file\n",
    "table_0.to_csv('table_0_final.csv', index=False)\n",
    "\n",
    "# Save table_4 to a CSV file\n",
    "table_4.to_csv('table_4_final.csv', index=False)\n",
    "\n",
    "print(\"Tables have been saved as CSV files.\")"
   ]
  }
 ],
 "metadata": {
  "kernelspec": {
   "display_name": "Python 3 (ipykernel)",
   "language": "python",
   "name": "python3"
  },
  "language_info": {
   "codemirror_mode": {
    "name": "ipython",
    "version": 3
   },
   "file_extension": ".py",
   "mimetype": "text/x-python",
   "name": "python",
   "nbconvert_exporter": "python",
   "pygments_lexer": "ipython3",
   "version": "3.12.4"
  }
 },
 "nbformat": 4,
 "nbformat_minor": 5
}
